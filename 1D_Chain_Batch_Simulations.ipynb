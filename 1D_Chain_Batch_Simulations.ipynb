{
 "cells": [
  {
   "cell_type": "code",
   "execution_count": 1,
   "id": "9d6bd58d",
   "metadata": {},
   "outputs": [],
   "source": [
    "import numpy as np\n",
    "from time import time"
   ]
  },
  {
   "cell_type": "code",
   "execution_count": 2,
   "id": "bc96be62",
   "metadata": {},
   "outputs": [],
   "source": [
    "from tRSSA_1D_Ising_Chain import Run_tSRRA_1D_Chain_Process"
   ]
  },
  {
   "cell_type": "code",
   "execution_count": 3,
   "id": "eda78a54",
   "metadata": {},
   "outputs": [
    {
     "name": "stderr",
     "output_type": "stream",
     "text": [
      "100%|██████████| 30/30 [00:11<00:00,  2.61it/s]\n",
      "100%|██████████| 30/30 [00:04<00:00,  7.03it/s]\n"
     ]
    },
    {
     "name": "stdout",
     "output_type": "stream",
     "text": [
      "24.14101529121399\n"
     ]
    }
   ],
   "source": [
    "Ts = np.array([10, 1000])\n",
    "hs = np.array([0.2])\n",
    "t_max = 50*1000\n",
    "num_save = 201\n",
    "ntrials = 30\n",
    "save_str = '\\DEC03'\n",
    "n_jobs = -1\n",
    "\n",
    "t_start = time()\n",
    "Run_tSRRA_1D_Chain_Process(Ts, hs, t_max, num_save, trials = ntrials, save=save_str, n_jobs=n_jobs) \n",
    "t_end = time()\n",
    "\n",
    "print(t_end - t_start)"
   ]
  },
  {
   "cell_type": "code",
   "execution_count": 4,
   "id": "4e9d6431",
   "metadata": {},
   "outputs": [],
   "source": [
    "d1 = np.load('DEC03/T=10_h=0.2_0.npz')\n",
    "d4 = np.load('DEC03/T=1000_h=0.2_0.npz')\n",
    "\n",
    "d2 = np.load('DEC03/Protocol_T=10_h=0.2.npz')\n",
    "d3 = np.load('DEC03/Protocol_T=1000_h=0.2.npz')"
   ]
  },
  {
   "cell_type": "code",
   "execution_count": 8,
   "id": "7d937dd3",
   "metadata": {},
   "outputs": [
    {
     "name": "stdout",
     "output_type": "stream",
     "text": [
      "[0.19814822 0.19833775 0.19851709 0.19868624 0.19884517 0.19899389\n",
      " 0.19913239 0.19926065 0.19937868 0.19948647 0.19958401 0.19967129\n",
      " 0.19974831 0.19981508 0.19987158 0.19991781 0.19995376 0.19997945\n",
      " 0.19999486 0.2       ]\n"
     ]
    }
   ],
   "source": [
    "print(d2['protocol'][-2])\n",
    "print(d3['protocol'][-2])"
   ]
  },
  {
   "cell_type": "code",
   "execution_count": 9,
   "id": "9a7d8860",
   "metadata": {},
   "outputs": [
    {
     "data": {
      "text/plain": [
       "array([0.16162479, 0.1616342 , 0.16164361, 0.16165302, 0.16166243,\n",
       "       0.16167183, 0.16168124, 0.16169064, 0.16170004, 0.16170944,\n",
       "       0.16171884, 0.16172824, 0.16173764, 0.16174704, 0.16175643,\n",
       "       0.16176583, 0.16177522, 0.16178462, 0.16179401, 0.1618034 ])"
      ]
     },
     "execution_count": 9,
     "metadata": {},
     "output_type": "execute_result"
    }
   ],
   "source": [
    "d3['protocol'][-2]"
   ]
  },
  {
   "cell_type": "code",
   "execution_count": null,
   "id": "db1388db",
   "metadata": {},
   "outputs": [],
   "source": []
  }
 ],
 "metadata": {
  "kernelspec": {
   "display_name": "Python 3 (ipykernel)",
   "language": "python",
   "name": "python3"
  },
  "language_info": {
   "codemirror_mode": {
    "name": "ipython",
    "version": 3
   },
   "file_extension": ".py",
   "mimetype": "text/x-python",
   "name": "python",
   "nbconvert_exporter": "python",
   "pygments_lexer": "ipython3",
   "version": "3.7.11"
  }
 },
 "nbformat": 4,
 "nbformat_minor": 5
}
