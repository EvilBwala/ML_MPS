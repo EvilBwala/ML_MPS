{
 "cells": [
  {
   "cell_type": "code",
   "execution_count": 1,
   "id": "9d6bd58d",
   "metadata": {},
   "outputs": [],
   "source": [
    "import numpy as np\n",
    "from time import time"
   ]
  },
  {
   "cell_type": "code",
   "execution_count": 2,
   "id": "630dd143",
   "metadata": {},
   "outputs": [],
   "source": [
    "from tRSSA_1D_Ising_Chain import Run_tSRRA_1D_Chain_Process"
   ]
  },
  {
   "cell_type": "code",
   "execution_count": 3,
   "id": "356aa6e4",
   "metadata": {},
   "outputs": [
    {
     "name": "stdout",
     "output_type": "stream",
     "text": [
      "30.546618461608887\n"
     ]
    }
   ],
   "source": [
    "Ts = np.array([10, 100, 100])\n",
    "hs = np.array([-0.2, 0.2])\n",
    "t_max = 50*1000\n",
    "num_save = 200\n",
    "ntrials = 15\n",
    "save_str = 'DEC02'\n",
    "n_jobs = 2\n",
    "\n",
    "t_start = time()\n",
    "Run_tSRRA_1D_Chain_Process(Ts, hs, t_max, num_save, trials = ntrials, save=save_str, n_jobs=n_jobs) \n",
    "t_end = time()\n",
    "\n",
    "print(t_end - t_start)"
   ]
  },
  {
   "cell_type": "code",
   "execution_count": null,
   "id": "72df86f6",
   "metadata": {},
   "outputs": [],
   "source": []
  }
 ],
 "metadata": {
  "kernelspec": {
   "display_name": "Python 3 (ipykernel)",
   "language": "python",
   "name": "python3"
  },
  "language_info": {
   "codemirror_mode": {
    "name": "ipython",
    "version": 3
   },
   "file_extension": ".py",
   "mimetype": "text/x-python",
   "name": "python",
   "nbconvert_exporter": "python",
   "pygments_lexer": "ipython3",
   "version": "3.7.11"
  }
 },
 "nbformat": 4,
 "nbformat_minor": 5
}
