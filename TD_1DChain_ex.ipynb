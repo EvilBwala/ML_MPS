{
 "cells": [
  {
   "cell_type": "code",
   "execution_count": 1,
   "id": "de8fee94-e200-4575-8732-22231374b8e0",
   "metadata": {},
   "outputs": [],
   "source": [
    "import numpy as np\n",
    "import matplotlib.pyplot as plt\n",
    "from numba import jit\n",
    "from math import exp, log, cos, cosh, sqrt, sinh, pi\n",
    "from time import process_time, time\n",
    "from random import uniform"
   ]
  },
  {
   "cell_type": "code",
   "execution_count": null,
   "id": "af765aab-0e1f-4f2a-936d-19a0ee2f9297",
   "metadata": {},
   "outputs": [],
   "source": [
    "from scipy.integrate import quad"
   ]
  },
  {
   "cell_type": "code",
   "execution_count": null,
   "id": "c5fb7cc7-912e-4189-8236-6a9f2d2dd8ae",
   "metadata": {},
   "outputs": [],
   "source": [
    "@jit\n",
    "def f(t_rn, h, T, nj):\n",
    "    return exp(-h*cos(2*pi*t_rn/T)*nj)\n",
    "\n",
    "@jit \n",
    "def g(t_rn, J, h, T, ni, nj):\n",
    "    return exp(-J*ni*nj-h*np.cos(2*pi*t_rn/T)*nj)"
   ]
  },
  {
   "cell_type": "code",
   "execution_count": null,
   "id": "89dbab62-633a-44a0-92eb-02dc6d2b149a",
   "metadata": {},
   "outputs": [],
   "source": [
    "J = 4\n",
    "h = 0.2\n",
    "T = 10\n",
    "ni = -1\n",
    "nj = 1"
   ]
  },
  {
   "cell_type": "code",
   "execution_count": null,
   "id": "843c0185-75ce-4217-b8ec-3d8627fdeba0",
   "metadata": {},
   "outputs": [],
   "source": [
    "ts = np.linspace(0, T, num = 2001)\n",
    "signals_1 = np.zeros(2001)\n",
    "signals_2 = np.zeros(2001)\n",
    "signals_3 = np.zeros(2001)\n",
    "signals_4 = np.zeros(2001)\n",
    "integrated_signals= np.zeros(2001)\n",
    "\n",
    "for i in range(2001):\n",
    "    signals_1[i] = g(ts[i], J, h, T, 1, 1)\n",
    "    signals_2[i] = g(ts[i], J, h, T, 1, -1)\n",
    "    signals_3[i] = g(ts[i], J, h, T, -1, 1)\n",
    "    signals_4[i] = g(ts[i], J, h, T, -1, -1)\n",
    "    \n",
    "    #integrated_signals[i] = quad(g, 0, ts[i], args=(J, h, T, ni, nj))[0]\n",
    "    \n",
    "plt.scatter(ts, signals_1)\n",
    "plt.scatter(ts, signals_2)\n",
    "plt.scatter(ts, signals_3)\n",
    "plt.scatter(ts, signals_4)\n",
    "plt.legend(['1, 1', '1, -1', '-1, 1', '-1, -1'])\n",
    "#plt.scatter(ts, integrated_signals)"
   ]
  },
  {
   "cell_type": "code",
   "execution_count": null,
   "id": "6cae36c1",
   "metadata": {},
   "outputs": [],
   "source": [
    "ts = np.linspace(0, T, num = 1001)\n",
    "signals_1 = np.zeros(1001)\n",
    "signals_2 = np.zeros(1001)\n",
    "signals_3 = np.zeros(1001)\n",
    "signals_4 = np.zeros(1001)\n",
    "integrated_signals= np.zeros(1001)\n",
    "\n",
    "for i in range(1001):\n",
    "    signals_1[i] = g(ts[i], J, -0.2, T, 1, 1)\n",
    "    signals_2[i] = g(ts[i], J, -0.2, T, 1, -1)\n",
    "    signals_3[i] = g(ts[i], J, -0.2, T, -1, 1)\n",
    "    signals_4[i] = g(ts[i], J, -0.2, T, -1, -1)\n",
    "    \n",
    "    #integrated_signals[i] = quad(g, 0, ts[i], args=(J, h, T, ni, nj))[0]\n",
    "    \n",
    "plt.scatter(ts, signals_1)\n",
    "plt.scatter(ts, signals_2)\n",
    "plt.scatter(ts, signals_3)\n",
    "plt.scatter(ts, signals_4)\n",
    "plt.legend(['1, 1', '1, -1', '-1, 1', '-1, -1'])\n",
    "#plt.scatter(ts, integrated_signals)"
   ]
  },
  {
   "cell_type": "code",
   "execution_count": null,
   "id": "97dc6309-631d-47bd-afad-d7be5d107f72",
   "metadata": {},
   "outputs": [],
   "source": [
    "int_1 = quad(f, 14.91, 15, args=(h, T, nj))[0] \n",
    "int_2 = quad(f, 14.91, 14.92, args=(h, T, nj))[0] \n",
    "\n",
    "print(int_2-int_1, np.abs(int_2-int_1)/int_2)"
   ]
  },
  {
   "cell_type": "code",
   "execution_count": 2,
   "id": "ed88ddaa-3c6b-410b-a402-d4187b75d3db",
   "metadata": {},
   "outputs": [],
   "source": [
    "from tRSSA_1D_Ising_Chain import TD_1DChain"
   ]
  },
  {
   "cell_type": "code",
   "execution_count": 3,
   "id": "4a418648",
   "metadata": {},
   "outputs": [],
   "source": [
    "def last_n_nonzero(M, n):\n",
    "    '''\n",
    "    For a matrix M of m by N, \n",
    "    return a matrix of m by n by removing the zero at the end of each row and keep the last n element \n",
    "    '''\n",
    "    m, N = M.shape\n",
    "    New_M = np.zeros((m, n))\n",
    "    for i in range(m):\n",
    "        row_i = np.trim_zeros(M[i], 'b')\n",
    "        New_M[i] = row_i[-n:]\n",
    "    return New_M   "
   ]
  },
  {
   "cell_type": "code",
   "execution_count": 7,
   "id": "c515a1b7-be0c-4884-9a7e-95c6f35bcccf",
   "metadata": {},
   "outputs": [
    {
     "name": "stdout",
     "output_type": "stream",
     "text": [
      "3427292 1554484\n",
      "0.9375\n",
      "1873808\n"
     ]
    }
   ],
   "source": [
    "#initial_chain = np.random.choice([-1,1], size=10000)\n",
    "\n",
    "                  \n",
    "T = 100\n",
    "J = 4\n",
    "h = 0.2\n",
    "dmu = 7\n",
    "Periods = 500\n",
    "Burn_in_Periods = 300\n",
    "\n",
    "t_max = T*Periods\n",
    "t_burn_in = T*Burn_in_Periods\n",
    "prop_t_bounds = np.linspace(0, t_max, num=T*Periods*5+1)\n",
    "num_t_save_intervals = 200\n",
    "t_save_intervals = np.linspace(t_burn_in, t_max, num=num_t_save_intervals)\n",
    "\n",
    "t_start = process_time() \n",
    "chain_length, patterns_save, addition_reaction_time_save = TD_1DChain(T, dmu, h, \n",
    "                                                                    t_max = t_max, \n",
    "                                                                    prop_t_bounds=prop_t_bounds,\n",
    "                                                                    t_save_intervals = t_save_intervals,\n",
    "                                                                    seed =None)\n",
    "t_end = process_time() \n",
    "print(t_end-t_start)\n",
    "\n",
    "print(chain_length)                         "
   ]
  },
  {
   "cell_type": "code",
   "execution_count": null,
   "id": "4b345ee8",
   "metadata": {},
   "outputs": [],
   "source": [
    "print(addition_reaction_time_save.shape)"
   ]
  },
  {
   "cell_type": "code",
   "execution_count": null,
   "id": "3dc58380",
   "metadata": {},
   "outputs": [],
   "source": [
    "print(addition_reaction_time_save)"
   ]
  },
  {
   "cell_type": "code",
   "execution_count": null,
   "id": "035be81d",
   "metadata": {},
   "outputs": [],
   "source": [
    "print(last_n_nonzero(addition_reaction_time_save, 100))\n",
    "print(last_n_nonzero(patterns_save, 100))"
   ]
  },
  {
   "cell_type": "code",
   "execution_count": 17,
   "id": "2f1fdeed",
   "metadata": {},
   "outputs": [],
   "source": [
    "from joblib import Parallel, delayed"
   ]
  },
  {
   "cell_type": "code",
   "execution_count": 8,
   "id": "246a9d6f",
   "metadata": {},
   "outputs": [],
   "source": [
    "def tSRRA_1D_Chain_Process(T, h, t_max, t_burn_in, num_t_save_intervals, J=4, dmu=7, last_n = 100, save='', save_n = 0):\n",
    "    prop_t_bounds = np.linspace(0, t_max, num=t_max*10+1)\n",
    "    t_save_intervals = np.linspace(t_burn_in, t_max, num=num_t_save_intervals)\n",
    "    \n",
    "    chain_length, patterns, addition_reaction_time = TD_1DChain(T, dmu, h, t_max = t_max,\n",
    "                                                                        prop_t_bounds=prop_t_bounds,\n",
    "                                                                        t_save_intervals = t_save_intervals)\n",
    "        \n",
    "    patterns_save = last_n_nonzero(patterns, last_n)\n",
    "    addition_reaction_time_save = last_n_nonzero(addition_reaction_time, last_n)\n",
    "    \n",
    "    vals_to_save = {'chain_length':chain_length,\n",
    "                        'patterns': patterns_save, 'addition_reaction_time': addition_reaction_time_save}\n",
    "    save_str = 'data/' + save+ '_T='+str(T)+'_h='+str(h)+'_'+str(save_n)\n",
    "    np.savez(save_str, **vals_to_save)"
   ]
  },
  {
   "cell_type": "code",
   "execution_count": 37,
   "id": "377677aa",
   "metadata": {},
   "outputs": [
    {
     "name": "stdout",
     "output_type": "stream",
     "text": [
      "2668302 1204314\n",
      "2667511 1205903\n",
      "2671695 1206780\n",
      "2665797 1204873\n",
      "2668207 1208013\n",
      "2663383 1207277\n",
      "2672280 1202923\n",
      "2664436 1206082\n",
      "2667618 1205716\n",
      "2665863 1205413\n",
      "3427865 1540681\n",
      "3429236 1540547\n",
      "3422665 1547594\n",
      "3423085 1544700\n",
      "3421329 1548813\n",
      "3427932 1541166\n",
      "3427250 1543803\n",
      "3423215 1544923\n",
      "3423008 1546346\n",
      "3422231 1547890\n",
      "2670478 1205553\n",
      "2671646 1206193\n",
      "2670564 1207447\n",
      "2672848 1211506\n",
      "2669104 1206843\n",
      "2675244 1205212\n",
      "2666921 1208109\n",
      "2674851 1205813\n",
      "2673566 1208558\n",
      "2670758 1205177\n",
      "3431767 1551504\n",
      "3426741 1553254\n",
      "3430830 1545368\n",
      "3432702 1547985\n",
      "3425925 1549916\n",
      "3431185 1547658\n",
      "3431646 1546213\n",
      "3425175 1551501\n",
      "3434222 1543321\n",
      "3429693 1544627\n",
      "43.90625\n"
     ]
    }
   ],
   "source": [
    "t_start = process_time()\n",
    "Ts = np.array([10, 100])\n",
    "hs = np.array([-0.2, 0.2])\n",
    "for T in Ts:\n",
    "    for h in hs:\n",
    "        for i in range(10):\n",
    "            tSRRA_1D_Chain_Process(T, h, t_max, t_burn_in, num_t_save_intervals, J=4, dmu=7, last_n = 100, save='NOV27', save_n = i)\n",
    "t_end = process_time()\n",
    "print(t_end - t_start)"
   ]
  },
  {
   "cell_type": "code",
   "execution_count": 18,
   "id": "00993537",
   "metadata": {},
   "outputs": [
    {
     "name": "stdout",
     "output_type": "stream",
     "text": [
      "10.796996593475342\n"
     ]
    }
   ],
   "source": [
    "t_start = time()\n",
    "Parallel(n_jobs=-1)(delayed(tSRRA_1D_Chain_Process) (T, h, t_max, t_burn_in, num_t_save_intervals, save='NOV27', save_n = i)\n",
    "                   for i in range(10) for T in [1000])\n",
    "t_end = time()\n",
    "print(t_end - t_start)"
   ]
  },
  {
   "cell_type": "code",
   "execution_count": 35,
   "id": "65ece86c",
   "metadata": {},
   "outputs": [],
   "source": [
    "def Run_tSRRA_1D_Chain_Process(Ts, hs, t_max, num_save, trials = 100,\n",
    "                               t_burn_in = 30*1000, J=4, dmu=7, \n",
    "                               last_n = 100, \n",
    "                               n_jobs = 1, save=''):\n",
    "    for T in range(len(Ts)):\n",
    "        T_i = Ts[T]\n",
    "        for h in range(len(hs)):\n",
    "            h_i = hs[h]\n",
    "            Parallel(n_jobs=n_jobs)(delayed(tSRRA_1D_Chain_Process)(T_i, h_i, t_max, t_burn_in, num_save, \n",
    "              J=J, dmu=dmu, last_n = last_n, save=save, save_n = i) for i in range(trials))  "
   ]
  },
  {
   "cell_type": "code",
   "execution_count": 36,
   "id": "be7b3aea",
   "metadata": {},
   "outputs": [
    {
     "name": "stdout",
     "output_type": "stream",
     "text": [
      "35.26301670074463\n"
     ]
    }
   ],
   "source": [
    "Ts = np.array([10, 100])\n",
    "hs = np.array([-0.2, 0.2])\n",
    "t_max = 50*1000\n",
    "num_save = 200\n",
    "\n",
    "t_start = time()\n",
    "Run_tSRRA_1D_Chain_Process(Ts, hs, t_max, num_save, trials = 25, save='DEC01', n_jobs=-1) \n",
    "t_end = time()\n",
    "print(t_end - t_start)"
   ]
  },
  {
   "cell_type": "code",
   "execution_count": null,
   "id": "15b64ded",
   "metadata": {},
   "outputs": [],
   "source": [
    "simulation_time = tSRRA_1D_Chain_Process(T, h, Periods, Burn_in_Periods, J=4, dmu=5.5, last_n = 100, save='NOV27')\n"
   ]
  },
  {
   "cell_type": "code",
   "execution_count": null,
   "id": "7f498f26",
   "metadata": {},
   "outputs": [],
   "source": [
    "print(np.mean(simulation_time))"
   ]
  },
  {
   "cell_type": "code",
   "execution_count": null,
   "id": "304da44a",
   "metadata": {},
   "outputs": [],
   "source": [
    "fig = plt.figure()\n",
    "ax = fig.add_axes([0,0,1,1])\n",
    "ax.set_yscale('log')\n",
    "methods = ['tRSSA', 'FRM']\n",
    "speeds = [np.mean(simulation_time),25.7]\n",
    "ax.bar(methods,speeds)\n",
    "ax.set_ylabel('CPU time (seconds)', fontsize=16)\n",
    "ax.set_xlabel('Simulation Methods', fontsize=16)\n",
    "ax.set_title('CPU time for simulating 50 periods', fontsize=16)\n",
    "fig.savefig('CPUtime_vs_methods.png', dpi=200)"
   ]
  },
  {
   "cell_type": "code",
   "execution_count": null,
   "id": "7888d8dc-b441-4d77-8519-a5e1b8749bb5",
   "metadata": {},
   "outputs": [],
   "source": [
    "print(addition_reaction_time[0:20])"
   ]
  },
  {
   "cell_type": "code",
   "execution_count": null,
   "id": "e5dfaf2f",
   "metadata": {},
   "outputs": [],
   "source": [
    "#trim the 0s\n",
    "chain = np.trim_zeros(chain, 'b')\n",
    "Chain_Changes = np.trim_zeros(Chain_Changes, 'b')\n",
    "addition_reaction_time = np.trim_zeros(addition_reaction_time, 'b')"
   ]
  },
  {
   "cell_type": "code",
   "execution_count": null,
   "id": "eaa43f83",
   "metadata": {},
   "outputs": [],
   "source": [
    "trials = 9000\n",
    "for trial_i in range(trials):\n",
    "    chain_length, chain, Chain_Changes, addition_reaction_time = TD_1DChain(T, dmu, h, \n",
    "                                                               Periods = Periods, t_intervals=ts)\n",
    "    chain = np.trim_zeros(chain, 'b')\n",
    "    Chain_Changes = np.trim_zeros(Chain_Changes, 'b')\n",
    "    addition_reaction_time = np.trim_zeros(addition_reaction_time, 'b')\n",
    "    \n",
    "    print(chain_length)\n",
    "    \n",
    "    vals_to_save = {'chain_length':chain_length,\n",
    "                    'chain': chain, 'Chain_Changes':Chain_Changes, 'addition_reaction_time': addition_reaction_time}\n",
    "    save_str = 'data/T='+str(T)+'_h='+str(h)+'_'+str(trial_i+1000)\n",
    "    np.savez(save_str, **vals_to_save)"
   ]
  },
  {
   "cell_type": "code",
   "execution_count": null,
   "id": "23261fd4",
   "metadata": {},
   "outputs": [],
   "source": [
    "def bits_patterns(n):\n",
    "    '''\n",
    "    Generate all patterns of 1&-1's of size n\n",
    "    '''\n",
    "    ps = ['-1', '1']\n",
    "    for i in range(n-1):\n",
    "        ps_temp = []\n",
    "        for i in range(len(ps)):\n",
    "            ps_temp.append(ps[i]+'-1')\n",
    "            ps_temp.append(ps[i]+'1')\n",
    "        ps = ps_temp\n",
    "    return ps  "
   ]
  },
  {
   "cell_type": "code",
   "execution_count": null,
   "id": "8b89e20c",
   "metadata": {},
   "outputs": [],
   "source": [
    "def bits_pattern_dict(n):\n",
    "    two_to_n = 2**n\n",
    "    n_bits_patterns = bits_patterns(n)\n",
    "    #create a dictionary to store patterns index\n",
    "    n_bits_patterns_dict = {}\n",
    "    for i in range(two_to_n):\n",
    "        n_bits_patterns_dict[n_bits_patterns[i]] = i\n",
    "    return n_bits_patterns_dict"
   ]
  },
  {
   "cell_type": "code",
   "execution_count": null,
   "id": "a7f0ff68",
   "metadata": {},
   "outputs": [],
   "source": [
    "n_trials = 10000\n",
    "n_sample_interval = 1000\n",
    "n_samples = int(n_trials/n_sample_interval)\n",
    "n_sites = 10\n",
    "num_patterns = 2**n_sites"
   ]
  },
  {
   "cell_type": "code",
   "execution_count": null,
   "id": "0e6dc754",
   "metadata": {},
   "outputs": [],
   "source": [
    "n_bits_ps_dict = bits_pattern_dict(n_sites)\n",
    "#store the running frequencies\n",
    "n_bits_ps_freq = np.zeros( len(n_bits_ps_dict) ) "
   ]
  },
  {
   "cell_type": "code",
   "execution_count": null,
   "id": "aae8e13f",
   "metadata": {},
   "outputs": [],
   "source": [
    "#save the distributions for n_samples\n",
    "n_bits_ps_dist = []\n",
    "#analyze distributions\n",
    "for i in range(n_trials):\n",
    "    data = np.load('data/T='+str(T)+'_h='+str(h)+'_'+str(i)+'.npz')\n",
    "    last_n_sites = \"\".join(map(str, data['chain'][-n_sites:].astype(int))) \n",
    "    n_bits_ps_freq[n_bits_ps_dict[last_n_sites]] += 1\n",
    "    if i > 0 and (i+1)%n_sample_interval==0:\n",
    "        n_bits_ps_dist.append(n_bits_ps_freq/i)\n",
    "\n",
    "n_bits_ps_dist = np.array(n_bits_ps_dist)\n",
    "    "
   ]
  },
  {
   "cell_type": "code",
   "execution_count": null,
   "id": "b1f78f6f",
   "metadata": {},
   "outputs": [],
   "source": [
    "x_array = np.arange(num_patterns)\n",
    "for i in range(n_samples):\n",
    "    plt.scatter(x_array, n_bits_ps_dist[i], s=1)\n",
    "    plt.legend([str(n_sample_interval*(i+1))])\n",
    "    plt.ylim(0, 0.0025)\n",
    "    save_str = '10sites_dist_samples='+ str(n_sample_interval*(i+1)) +'.png'\n",
    "    plt.ylabel('Probability', size=16)\n",
    "    plt.xlabel('Pattern Labels', size=16)\n",
    "    plt.title('10 Sites Pattern Distributions', size=16)\n",
    "    plt.savefig(save_str, dpi=200)\n",
    "    plt.show()\n",
    "#plt.legend(['1000', '2000', '3000', '4000', '5000', '6000', '7000', '8000', '9000'])"
   ]
  },
  {
   "cell_type": "code",
   "execution_count": null,
   "id": "705aa4b5",
   "metadata": {},
   "outputs": [],
   "source": [
    "from scipy.special import kl_div"
   ]
  },
  {
   "cell_type": "code",
   "execution_count": null,
   "id": "c2faea6d",
   "metadata": {},
   "outputs": [],
   "source": [
    "kl_div_to_final = np.zeros(n_samples)\n",
    "for i in range(n_samples-1):\n",
    "    kl_div_to_final[i] = np.sum(kl_div(n_bits_ps_dist[i], n_bits_ps_dist[n_samples-1]))"
   ]
  },
  {
   "cell_type": "code",
   "execution_count": null,
   "id": "8fb3f8b8",
   "metadata": {},
   "outputs": [],
   "source": [
    "n_samples_array = (np.arange(n_samples)+1)*n_sample_interval\n",
    "plt.scatter(n_samples_array[:-1], kl_div_to_final[:-1])\n",
    "plt.title('KL Divergence to Final Distributions of 10 sites')\n",
    "plt.xlabel('Number of Samples', size=16)\n",
    "plt.savefig('10sites_KLDIV_vs_samples.png', dpi=200)"
   ]
  },
  {
   "cell_type": "code",
   "execution_count": null,
   "id": "32f8708e",
   "metadata": {},
   "outputs": [],
   "source": [
    "print( kl_div_to_final)"
   ]
  },
  {
   "cell_type": "code",
   "execution_count": null,
   "id": "23f544de",
   "metadata": {},
   "outputs": [],
   "source": []
  }
 ],
 "metadata": {
  "kernelspec": {
   "display_name": "Python 3 (ipykernel)",
   "language": "python",
   "name": "python3"
  },
  "language_info": {
   "codemirror_mode": {
    "name": "ipython",
    "version": 3
   },
   "file_extension": ".py",
   "mimetype": "text/x-python",
   "name": "python",
   "nbconvert_exporter": "python",
   "pygments_lexer": "ipython3",
   "version": "3.7.11"
  }
 },
 "nbformat": 4,
 "nbformat_minor": 5
}
