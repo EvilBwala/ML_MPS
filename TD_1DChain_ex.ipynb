{
 "cells": [
  {
   "cell_type": "code",
   "execution_count": 2,
   "id": "de8fee94-e200-4575-8732-22231374b8e0",
   "metadata": {},
   "outputs": [],
   "source": [
    "import numpy as np\n",
    "import matplotlib.pyplot as plt\n",
    "from numba import jit\n",
    "from math import exp, log, cos, cosh, sqrt, sinh, pi"
   ]
  },
  {
   "cell_type": "code",
   "execution_count": 3,
   "id": "af765aab-0e1f-4f2a-936d-19a0ee2f9297",
   "metadata": {},
   "outputs": [],
   "source": [
    "from scipy.integrate import quad"
   ]
  },
  {
   "cell_type": "code",
   "execution_count": 8,
   "id": "c5fb7cc7-912e-4189-8236-6a9f2d2dd8ae",
   "metadata": {},
   "outputs": [],
   "source": [
    "@jit\n",
    "def f(t_rn, h, T, nj):\n",
    "    return exp(-h*cos(2*pi*t_rn/T)*nj)"
   ]
  },
  {
   "cell_type": "code",
   "execution_count": 21,
   "id": "dd4e32f4-20e2-4221-a085-562cc19cab4a",
   "metadata": {},
   "outputs": [
    {
     "name": "stdout",
     "output_type": "stream",
     "text": [
      "0.8196106779364342 10.000706642322351\n"
     ]
    }
   ],
   "source": [
    "h = 0.2\n",
    "T = 1000\n",
    "nj = 1\n",
    "\n",
    "\n",
    "\n",
    "inte_1 = quad(f, 15, 17, args=(h, T, nj))[0] \n",
    "inte_2 = quad(f, 15.9, 16, args=(h, T, nj))[0]\n"
   ]
  },
  {
   "cell_type": "code",
   "execution_count": 24,
   "id": "ed88ddaa-3c6b-410b-a402-d4187b75d3db",
   "metadata": {},
   "outputs": [],
   "source": [
    "@jit(nopython=True)\n",
    "def TD_1DChain(T, dmu, h, initial_chain=np.random.choice([-1,1], size=10000),\n",
    "               P_gen_kj=np.ones((2,2))*0.5, J=4,\n",
    "               num_reactions=10000000):\n",
    "    '''\n",
    "    Parameters\n",
    "    ----------\n",
    "    T: Period of the external cosine signal \n",
    "    dmu: The additional chemical potential from equilbirum \n",
    "    h:strength of the external signal\n",
    "    \n",
    "    P_gen_kj:  the probability of getting a particular particle nk from the bath given the interface particle is nj\n",
    "       -1   1    \n",
    "    -1 0.5 0.5\n",
    "     1 0.5 0.5\n",
    "    in general it is a matrix as above. Here just 0.5\n",
    "    \n",
    "    J: monomer-monomer interaction strength\n",
    "    \n",
    "    num_reactions: total reactions allowed\n",
    "    initial_chain_size: size for the initial bulk\n",
    "    \n",
    "    Returns\n",
    "    -------\n",
    "    Timestamps and Changes of 1D-Chain\n",
    "    '''\n",
    "    #generate uniform random numbers  \n",
    "    r_array = np.random.random(size=num_reactions)\n",
    "    \n",
    "    #track reaction time\n",
    "    ln_inv_r = np.log(1/np.random.random(size=num_reactions))\n",
    "    \n",
    "    \n",
    "    #Track the change of the 1D-Chain\n",
    "    Chain_Changes = np.zeros(num_reactions+1, dtype=np.int8)\n",
    "    #track time\n",
    "    t = np.zeros(num_reactions+1, dtype=np.float32)\n",
    "    t_rn = 0\n",
    "    t_internal = 0 #internal time\n",
    "    \n",
    "    #track chain configuration\n",
    "    chain = []\n",
    "    chain.extend(initial_chain)\n",
    "    \n",
    "    #outmost blocks\n",
    "    nj = initial_chain[-1]\n",
    "    ni = initial_chain[-2]\n",
    "    \n",
    "    mu_eq = log(2/(exp(J)*(cosh(h)+sqrt(exp(-4*J)+sinh(h)**2))))\n",
    "    mu = mu_eq+dmu\n",
    "    exp_mu = exp(mu)\n",
    "        \n",
    "    #TODO: compute time-dependent propoensity for removal \n",
    "    exp_rem = exp(-J*ni*nj-h*np.cos(2*pi*t_rn/T)*nj)\n",
    "    \n",
    "    for i in range(num_reactions):\n",
    "    #modified next reaction method\n",
    "        \n",
    "        t_d = ln_inv_\n",
    "        \n",
    "        #propensity for reactions\n",
    "        if nj==-1:\n",
    "            #waiting time for adding +1 to the chain\n",
    "            tau_1 = exp_mu*P_gen_kj[0,1] \n",
    "            a2 = exp_mu*P_gen_kj[0,0]#adding -1 to the chain \n",
    "            a0 = a1+a2+exp_rem #total propensity\n",
    "        else:\n",
    "            a1 = exp_mu*P_gen_kj[1,1]#adding +1 to the chain \n",
    "            a2 = exp_mu*P_gen_kj[1,0]#adding -1 to the chain \n",
    "            a0 = a1+a2+exp_rem #total propensity\n",
    "        \n",
    "        #find and update arrival time\n",
    "        r1 = r1_array[i] \n",
    "        tau = np.log(1/r1)/a0\n",
    "        t_rn = t_rn+tau\n",
    "        t[i] = t_rn\n",
    "        \n",
    "        # Threshold for selecting a reaction\n",
    "        r2a0 = r2_array[i]*a0\n",
    "        \n",
    "        #choose a reaction\n",
    "        #add +1\n",
    "        if r2a0 < a1:\n",
    "            Chain_Changes[i+1] = 1\n",
    "            ni = nj\n",
    "            nj = 1\n",
    "            chain.append(1)\n",
    "        #add -1\n",
    "        elif a1 <= r2a0 <= a1+a2:\n",
    "            Chain_Changes[i+1] = -1\n",
    "            ni = nj\n",
    "            nj = -1\n",
    "            chain.append(-1)\n",
    "        #removal\n",
    "        else:\n",
    "            Chain_Changes[i+1] = 0\n",
    "            del chain[-1]\n",
    "            nj = ni\n",
    "            ni = chain[-1]\n",
    "            \n",
    "    return chain, Chain_Changes, t"
   ]
  },
  {
   "cell_type": "code",
   "execution_count": 25,
   "id": "c515a1b7-be0c-4884-9a7e-95c6f35bcccf",
   "metadata": {},
   "outputs": [
    {
     "name": "stdout",
     "output_type": "stream",
     "text": [
      "0.0\n"
     ]
    }
   ],
   "source": [
    "#initial_chain = np.random.choice([-1,1], size=10000)\n",
    "\n",
    "T = 1000\n",
    "J = 4\n",
    "h = 0.2\n",
    "dmu = 0.3\n",
    "\n",
    "chain, Chain_Changes, t = TD_1DChain(T, dmu, h)\n",
    "\n",
    "print(t[-1])"
   ]
  },
  {
   "cell_type": "code",
   "execution_count": null,
   "id": "7448c92a-91d5-4c63-b847-f7db65582b59",
   "metadata": {},
   "outputs": [],
   "source": [
    "print(len(chain))"
   ]
  },
  {
   "cell_type": "code",
   "execution_count": null,
   "id": "7888d8dc-b441-4d77-8519-a5e1b8749bb5",
   "metadata": {},
   "outputs": [],
   "source": []
  }
 ],
 "metadata": {
  "kernelspec": {
   "display_name": "Python 3 (ipykernel)",
   "language": "python",
   "name": "python3"
  },
  "language_info": {
   "codemirror_mode": {
    "name": "ipython",
    "version": 3
   },
   "file_extension": ".py",
   "mimetype": "text/x-python",
   "name": "python",
   "nbconvert_exporter": "python",
   "pygments_lexer": "ipython3",
   "version": "3.7.11"
  }
 },
 "nbformat": 4,
 "nbformat_minor": 5
}
